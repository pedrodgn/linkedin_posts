{
 "cells": [
  {
   "cell_type": "code",
   "execution_count": 1,
   "id": "f3d70036",
   "metadata": {},
   "outputs": [],
   "source": [
    "import nfl_data_py as nfl\n",
    "import pandas as pd\n",
    "import warnings\n",
    "warnings.filterwarnings(\"ignore\")"
   ]
  },
  {
   "cell_type": "code",
   "execution_count": null,
   "id": "64ca752d",
   "metadata": {},
   "outputs": [],
   "source": []
  },
  {
   "cell_type": "markdown",
   "id": "5a0af51b",
   "metadata": {},
   "source": [
    "Getting NFL weekly data and schedule information from the last 9 years"
   ]
  },
  {
   "cell_type": "code",
   "execution_count": 2,
   "id": "42d73b24",
   "metadata": {},
   "outputs": [],
   "source": [
    "years = list(range(2015,2025))"
   ]
  },
  {
   "cell_type": "code",
   "execution_count": 3,
   "id": "307ed86c",
   "metadata": {},
   "outputs": [
    {
     "name": "stdout",
     "output_type": "stream",
     "text": [
      "Downcasting floats.\n"
     ]
    }
   ],
   "source": [
    "nfl_main_df = nfl.import_weekly_data(years, columns = list(nfl.see_weekly_cols()), downcast=True)"
   ]
  },
  {
   "cell_type": "code",
   "execution_count": 4,
   "id": "0c140d5f",
   "metadata": {},
   "outputs": [],
   "source": [
    "schedule_df = nfl.import_schedules(years)"
   ]
  },
  {
   "cell_type": "code",
   "execution_count": 5,
   "id": "c67a4aad",
   "metadata": {},
   "outputs": [],
   "source": [
    "team_opponent_df_1 = schedule_df[[\"week\",\"season\",\"away_team\",\"home_team\",\"game_id\"]].rename(columns={\"away_team\":\"recent_team\",\"home_team\":\"opponent\"})\n",
    "team_opponent_df_2 = schedule_df[[\"week\",\"season\",\"away_team\",\"home_team\",\"game_id\"]].rename(columns={\"away_team\":\"opponent\",\"home_team\":\"recent_team\"})\n",
    "\n",
    "team_opponent_df = pd.concat([team_opponent_df_1,team_opponent_df_2])"
   ]
  },
  {
   "cell_type": "code",
   "execution_count": 6,
   "id": "71858a6e",
   "metadata": {},
   "outputs": [],
   "source": [
    "nfl_main_df = nfl_main_df.merge(team_opponent_df,on=[\"week\",\"season\",\"recent_team\"],how=\"left\")"
   ]
  },
  {
   "cell_type": "code",
   "execution_count": 7,
   "id": "6fd9809e",
   "metadata": {},
   "outputs": [],
   "source": [
    "nfl_main_df = nfl_main_df.rename(columns={\"recent_team\":\"team\"})"
   ]
  },
  {
   "cell_type": "code",
   "execution_count": 8,
   "id": "725b717f",
   "metadata": {},
   "outputs": [],
   "source": [
    "nfl_main_df.to_csv(\"nfl_main.csv\",index=False)"
   ]
  },
  {
   "cell_type": "code",
   "execution_count": null,
   "id": "0b2d20d0",
   "metadata": {},
   "outputs": [],
   "source": []
  },
  {
   "cell_type": "code",
   "execution_count": null,
   "id": "4bc87a4e",
   "metadata": {},
   "outputs": [],
   "source": []
  },
  {
   "cell_type": "code",
   "execution_count": null,
   "id": "7f0546f0",
   "metadata": {},
   "outputs": [],
   "source": []
  }
 ],
 "metadata": {
  "kernelspec": {
   "display_name": "Python 3 (ipykernel)",
   "language": "python",
   "name": "python3"
  },
  "language_info": {
   "codemirror_mode": {
    "name": "ipython",
    "version": 3
   },
   "file_extension": ".py",
   "mimetype": "text/x-python",
   "name": "python",
   "nbconvert_exporter": "python",
   "pygments_lexer": "ipython3",
   "version": "3.11.4"
  }
 },
 "nbformat": 4,
 "nbformat_minor": 5
}
