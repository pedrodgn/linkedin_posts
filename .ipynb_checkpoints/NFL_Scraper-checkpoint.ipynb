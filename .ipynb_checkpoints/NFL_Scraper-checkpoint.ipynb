{
 "cells": [
  {
   "cell_type": "code",
   "execution_count": 9,
   "id": "95e667a8",
   "metadata": {},
   "outputs": [],
   "source": [
    "import nfl_data_py as nfl\n",
    "import pandas as pd\n",
    "import warnings\n",
    "warnings.filterwarnings(\"ignore\")"
   ]
  },
  {
   "cell_type": "code",
   "execution_count": null,
   "id": "a057c3ba",
   "metadata": {},
   "outputs": [],
   "source": []
  },
  {
   "cell_type": "markdown",
   "id": "313afbf6",
   "metadata": {},
   "source": [
    "Getting NFL weekly data and schedule information from the last 9 years"
   ]
  },
  {
   "cell_type": "code",
   "execution_count": 10,
   "id": "c08b3b24",
   "metadata": {},
   "outputs": [],
   "source": [
    "years = list(range(2019,2025))"
   ]
  },
  {
   "cell_type": "code",
   "execution_count": 11,
   "id": "81a568f3",
   "metadata": {},
   "outputs": [
    {
     "name": "stdout",
     "output_type": "stream",
     "text": [
      "Downcasting floats.\n"
     ]
    }
   ],
   "source": [
    "nfl_main_df = nfl.import_weekly_data(years, columns = list(nfl.see_weekly_cols()), downcast=True)"
   ]
  },
  {
   "cell_type": "code",
   "execution_count": null,
   "id": "8256f5bc",
   "metadata": {},
   "outputs": [],
   "source": [
    "schedule_df = nfl.import_schedules(years)"
   ]
  },
  {
   "cell_type": "code",
   "execution_count": null,
   "id": "af5219eb",
   "metadata": {},
   "outputs": [],
   "source": [
    "team_opponent_df_1 = schedule_df[[\"week\",\"season\",\"away_team\",\"home_team\",\"game_id\"]].rename(columns={\"away_team\":\"recent_team\",\"home_team\":\"opponent\"})\n",
    "team_opponent_df_2 = schedule_df[[\"week\",\"season\",\"away_team\",\"home_team\",\"game_id\"]].rename(columns={\"away_team\":\"opponent\",\"home_team\":\"recent_team\"})\n",
    "\n",
    "team_opponent_df = pd.concat([team_opponent_df_1,team_opponent_df_2])"
   ]
  },
  {
   "cell_type": "code",
   "execution_count": null,
   "id": "b7c00c5a",
   "metadata": {},
   "outputs": [],
   "source": [
    "nfl_main_df = nfl_main_df.merge(team_opponent_df,on=[\"week\",\"season\",\"recent_team\"],how=\"left\")"
   ]
  },
  {
   "cell_type": "code",
   "execution_count": null,
   "id": "0c74f6dc",
   "metadata": {},
   "outputs": [],
   "source": [
    "nfl_main_df = nfl_main_df.rename(columns={\"recent_team\":\"team\"})"
   ]
  },
  {
   "cell_type": "code",
   "execution_count": null,
   "id": "011bead0",
   "metadata": {},
   "outputs": [],
   "source": [
    "nfl_main_df.to_csv(\"nfl_main.csv\",index=False)"
   ]
  },
  {
   "cell_type": "code",
   "execution_count": null,
   "id": "6706a123",
   "metadata": {},
   "outputs": [],
   "source": []
  },
  {
   "cell_type": "code",
   "execution_count": null,
   "id": "d86cd3b9",
   "metadata": {},
   "outputs": [],
   "source": []
  },
  {
   "cell_type": "code",
   "execution_count": null,
   "id": "e540e9b3",
   "metadata": {},
   "outputs": [],
   "source": []
  }
 ],
 "metadata": {
  "kernelspec": {
   "display_name": "Python 3 (ipykernel)",
   "language": "python",
   "name": "python3"
  },
  "language_info": {
   "codemirror_mode": {
    "name": "ipython",
    "version": 3
   },
   "file_extension": ".py",
   "mimetype": "text/x-python",
   "name": "python",
   "nbconvert_exporter": "python",
   "pygments_lexer": "ipython3",
   "version": "3.11.4"
  }
 },
 "nbformat": 4,
 "nbformat_minor": 5
}
