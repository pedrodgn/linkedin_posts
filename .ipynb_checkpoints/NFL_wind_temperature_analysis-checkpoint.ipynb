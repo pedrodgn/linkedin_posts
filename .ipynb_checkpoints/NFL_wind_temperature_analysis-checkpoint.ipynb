{
 "cells": [
  {
   "cell_type": "code",
   "execution_count": 18,
   "id": "2ec9772f",
   "metadata": {},
   "outputs": [],
   "source": [
    "import nfl_data_py as nfl\n",
    "import pandas as pd\n",
    "import warnings\n",
    "warnings.filterwarnings(\"ignore\")\n",
    "import seaborn as sns"
   ]
  },
  {
   "cell_type": "code",
   "execution_count": null,
   "id": "f457e286",
   "metadata": {},
   "outputs": [],
   "source": []
  },
  {
   "cell_type": "code",
   "execution_count": null,
   "id": "c2237e3c",
   "metadata": {},
   "outputs": [],
   "source": []
  },
  {
   "cell_type": "markdown",
   "id": "77366db8",
   "metadata": {},
   "source": [
    "Getting NFL data from the last 9 years"
   ]
  },
  {
   "cell_type": "code",
   "execution_count": 2,
   "id": "a4173245",
   "metadata": {},
   "outputs": [],
   "source": [
    "years = list(range(2015,2024))"
   ]
  },
  {
   "cell_type": "code",
   "execution_count": 3,
   "id": "392a5cee",
   "metadata": {},
   "outputs": [
    {
     "name": "stdout",
     "output_type": "stream",
     "text": [
      "Downcasting floats.\n"
     ]
    }
   ],
   "source": [
    "nfl_main_df = nfl.import_weekly_data(years, columns = list(nfl.see_weekly_cols()), downcast=True)"
   ]
  },
  {
   "cell_type": "code",
   "execution_count": null,
   "id": "75bf1385",
   "metadata": {
    "scrolled": false
   },
   "outputs": [
    {
     "name": "stdout",
     "output_type": "stream",
     "text": [
      "2015 done.\n",
      "Downcasting floats.\n",
      "2016 done.\n",
      "Downcasting floats.\n"
     ]
    }
   ],
   "source": [
    "pbp_df = pd.DataFrame()\n",
    "\n",
    "for y in years:\n",
    "\n",
    "    local_pbp_df = nfl.import_pbp_data([y], columns=list(nfl.see_pbp_cols()), downcast=True, cache=False, alt_path=None)\n",
    "    \n",
    "    pbp_df = pd.concat([pbp_df,local_pbp_df])"
   ]
  },
  {
   "cell_type": "markdown",
   "id": "a072be4d",
   "metadata": {},
   "source": [
    "Preparing the dataframe we will use to analyze. The idea is to focus on 4 features: pass, complete_pass, air_yards and deep_complete_pass. The last one we will have to create ourselves. The glossary of play_by_play data is available below"
   ]
  },
  {
   "cell_type": "markdown",
   "id": "807ec7d9",
   "metadata": {},
   "source": [
    "https://nflreadr.nflverse.com/articles/dictionary_pbp.html"
   ]
  },
  {
   "cell_type": "code",
   "execution_count": null,
   "id": "7f2cdc36",
   "metadata": {},
   "outputs": [],
   "source": [
    "pbp_df[\"deep_complete_pass\"] = 0\n",
    "pbp_df.loc[(pbp_df[\"pass_length\"]==\"deep\")&(pbp_df[\"complete_pass\"]==1),\"deep_complete_pass\"] = 1\n",
    "\n",
    "pass_df = pbp_df.groupby([\"game_id\"])[[\"pass\",\"complete_pass\",\"air_yards\",\"deep_complete_pass\"]].sum().reset_index()\n",
    "temp_wind_df = pbp_df[[\"game_id\",\"temp\",\"wind\"]].dropna().drop_duplicates()\n",
    "temp_wind_df = temp_wind_df.merge(pass_df)"
   ]
  },
  {
   "cell_type": "markdown",
   "id": "ea1d524d",
   "metadata": {},
   "source": [
    "The correlation between temperature and wind. Of course this only show the linear correlation between the stats. But its an important first look"
   ]
  },
  {
   "cell_type": "code",
   "execution_count": null,
   "id": "693a10c0",
   "metadata": {},
   "outputs": [],
   "source": [
    "temp_wind_df.corr()[[\"temp\",\"wind\"]]"
   ]
  },
  {
   "cell_type": "code",
   "execution_count": null,
   "id": "bb60d6e7",
   "metadata": {},
   "outputs": [],
   "source": []
  },
  {
   "cell_type": "markdown",
   "id": "114ac33e",
   "metadata": {},
   "source": [
    "Lets get to know the distribution of wind and temperature to have a better idea of what are the low and highs of those features"
   ]
  },
  {
   "cell_type": "code",
   "execution_count": null,
   "id": "77663b8c",
   "metadata": {},
   "outputs": [],
   "source": [
    "sns.distplot(temp_wind_df[\"wind\"])"
   ]
  },
  {
   "cell_type": "code",
   "execution_count": null,
   "id": "d967e170",
   "metadata": {},
   "outputs": [],
   "source": [
    "sns.distplot(temp_wind_df[\"temp\"])"
   ]
  },
  {
   "cell_type": "code",
   "execution_count": null,
   "id": "f88502ed",
   "metadata": {},
   "outputs": [],
   "source": []
  },
  {
   "cell_type": "code",
   "execution_count": null,
   "id": "a24591b1",
   "metadata": {},
   "outputs": [],
   "source": [
    "stats = ['pass', 'complete_pass', 'air_yards',\n",
    "       'deep_complete_pass']"
   ]
  },
  {
   "cell_type": "code",
   "execution_count": null,
   "id": "7f87a62e",
   "metadata": {},
   "outputs": [],
   "source": [
    "temp_wind_df[temp_wind_df[\"wind\"]>15].shape[0]/temp_wind_df.shape[0]"
   ]
  },
  {
   "cell_type": "code",
   "execution_count": null,
   "id": "46a7df67",
   "metadata": {},
   "outputs": [],
   "source": [
    "temp_wind_df[temp_wind_df[\"temp\"]<35].shape[0]/temp_wind_df.shape[0]"
   ]
  },
  {
   "cell_type": "code",
   "execution_count": null,
   "id": "2d42ac13",
   "metadata": {},
   "outputs": [],
   "source": [
    "threshold = 15\n",
    "\n",
    "for s in stats:\n",
    "\n",
    "    print(f\"Average {s} in a game: \",round(temp_wind_df[s].mean(),2))\n",
    "    print(f\"Average {s} in a game with high wind: \",round(temp_wind_df[temp_wind_df[\"wind\"]>threshold][s].mean(),2))   \n",
    "    print(\"\")"
   ]
  },
  {
   "cell_type": "code",
   "execution_count": null,
   "id": "eac4cec7",
   "metadata": {},
   "outputs": [],
   "source": []
  },
  {
   "cell_type": "code",
   "execution_count": null,
   "id": "2596131b",
   "metadata": {},
   "outputs": [],
   "source": [
    "threshold = 35\n",
    "\n",
    "for s in stats:\n",
    "\n",
    "    print(f\"Average {s} in a game: \",round(temp_wind_df[s].mean(),2))\n",
    "    print(f\"Average {s} in a game with low temperature: \",round(temp_wind_df[temp_wind_df[\"temp\"]<threshold][s].mean(),2))   \n",
    "    print(\"\")"
   ]
  },
  {
   "cell_type": "code",
   "execution_count": null,
   "id": "e5d2a3a6",
   "metadata": {},
   "outputs": [],
   "source": []
  },
  {
   "cell_type": "code",
   "execution_count": null,
   "id": "d40c0488",
   "metadata": {},
   "outputs": [],
   "source": []
  },
  {
   "cell_type": "code",
   "execution_count": 35,
   "id": "c089aa30",
   "metadata": {},
   "outputs": [
    {
     "name": "stdout",
     "output_type": "stream",
     "text": [
      "                            OLS Regression Results                            \n",
      "==============================================================================\n",
      "Dep. Variable:                   pass   R-squared:                       0.008\n",
      "Model:                            OLS   Adj. R-squared:                  0.007\n",
      "Method:                 Least Squares   F-statistic:                     6.894\n",
      "Date:                Sat, 07 Sep 2024   Prob (F-statistic):            0.00104\n",
      "Time:                        14:15:51   Log-Likelihood:                -6295.1\n",
      "No. Observations:                1624   AIC:                         1.260e+04\n",
      "Df Residuals:                    1621   BIC:                         1.261e+04\n",
      "Df Model:                           2                                         \n",
      "Covariance Type:            nonrobust                                         \n",
      "==============================================================================\n",
      "                 coef    std err          t      P>|t|      [0.025      0.975]\n",
      "------------------------------------------------------------------------------\n",
      "const         79.9493      1.131     70.673      0.000      77.730      82.168\n",
      "wind          -0.1230      0.055     -2.243      0.025      -0.230      -0.015\n",
      "temp           0.0462      0.017      2.777      0.006       0.014       0.079\n",
      "==============================================================================\n",
      "Omnibus:                        5.010   Durbin-Watson:                   1.960\n",
      "Prob(Omnibus):                  0.082   Jarque-Bera (JB):                5.395\n",
      "Skew:                           0.075   Prob(JB):                       0.0674\n",
      "Kurtosis:                       3.239   Cond. No.                         237.\n",
      "==============================================================================\n",
      "\n",
      "Notes:\n",
      "[1] Standard Errors assume that the covariance matrix of the errors is correctly specified.\n",
      "                            OLS Regression Results                            \n",
      "==============================================================================\n",
      "Dep. Variable:          complete_pass   R-squared:                       0.030\n",
      "Model:                            OLS   Adj. R-squared:                  0.029\n",
      "Method:                 Least Squares   F-statistic:                     25.13\n",
      "Date:                Sat, 07 Sep 2024   Prob (F-statistic):           1.78e-11\n",
      "Time:                        14:15:51   Log-Likelihood:                -5686.8\n",
      "No. Observations:                1624   AIC:                         1.138e+04\n",
      "Df Residuals:                    1621   BIC:                         1.140e+04\n",
      "Df Model:                           2                                         \n",
      "Covariance Type:            nonrobust                                         \n",
      "==============================================================================\n",
      "                 coef    std err          t      P>|t|      [0.025      0.975]\n",
      "------------------------------------------------------------------------------\n",
      "const         41.9964      0.778     53.991      0.000      40.471      43.522\n",
      "wind          -0.1798      0.038     -4.769      0.000      -0.254      -0.106\n",
      "temp           0.0556      0.011      4.861      0.000       0.033       0.078\n",
      "==============================================================================\n",
      "Omnibus:                       11.291   Durbin-Watson:                   1.988\n",
      "Prob(Omnibus):                  0.004   Jarque-Bera (JB):               13.008\n",
      "Skew:                           0.130   Prob(JB):                      0.00150\n",
      "Kurtosis:                       3.353   Cond. No.                         237.\n",
      "==============================================================================\n",
      "\n",
      "Notes:\n",
      "[1] Standard Errors assume that the covariance matrix of the errors is correctly specified.\n"
     ]
    }
   ],
   "source": [
    "import statsmodels.api as sm\n",
    "\n",
    "# Independent variables: wind and temp\n",
    "X = temp_wind_df[['wind', 'temp']]\n",
    "\n",
    "# Dependent variable: pass attempts\n",
    "y_pass = temp_wind_df['pass']\n",
    "\n",
    "# Add a constant to the model (intercept)\n",
    "X = sm.add_constant(X)\n",
    "\n",
    "# Fit the regression model for pass attempts\n",
    "model_pass = sm.OLS(y_pass, X).fit()\n",
    "print(model_pass.summary())\n",
    "\n",
    "# Dependent variable: complete_pass\n",
    "y_complete_pass = temp_wind_df['complete_pass']\n",
    "\n",
    "# Fit the regression model for complete passes\n",
    "model_complete_pass = sm.OLS(y_complete_pass, X).fit()\n",
    "print(model_complete_pass.summary())"
   ]
  },
  {
   "cell_type": "code",
   "execution_count": null,
   "id": "088200b5",
   "metadata": {},
   "outputs": [],
   "source": []
  },
  {
   "cell_type": "code",
   "execution_count": null,
   "id": "807038d0",
   "metadata": {},
   "outputs": [],
   "source": []
  },
  {
   "cell_type": "code",
   "execution_count": null,
   "id": "8e220cc7",
   "metadata": {},
   "outputs": [],
   "source": []
  },
  {
   "cell_type": "code",
   "execution_count": null,
   "id": "fed2856b",
   "metadata": {},
   "outputs": [],
   "source": []
  },
  {
   "cell_type": "code",
   "execution_count": null,
   "id": "c68a12d9",
   "metadata": {},
   "outputs": [],
   "source": []
  },
  {
   "cell_type": "code",
   "execution_count": null,
   "id": "e8830898",
   "metadata": {},
   "outputs": [],
   "source": []
  }
 ],
 "metadata": {
  "kernelspec": {
   "display_name": "Python 3 (ipykernel)",
   "language": "python",
   "name": "python3"
  },
  "language_info": {
   "codemirror_mode": {
    "name": "ipython",
    "version": 3
   },
   "file_extension": ".py",
   "mimetype": "text/x-python",
   "name": "python",
   "nbconvert_exporter": "python",
   "pygments_lexer": "ipython3",
   "version": "3.11.4"
  }
 },
 "nbformat": 4,
 "nbformat_minor": 5
}
