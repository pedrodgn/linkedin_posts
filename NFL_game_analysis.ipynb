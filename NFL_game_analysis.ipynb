{
 "cells": [
  {
   "cell_type": "code",
   "execution_count": 1,
   "id": "2ec9772f",
   "metadata": {},
   "outputs": [],
   "source": [
    "import pandas as pd\n",
    "import seaborn as sns\n",
    "from matplotlib import pyplot as plt\n",
    "import numpy as np\n",
    "import ipywidgets as widgets\n",
    "from IPython.display import display, clear_output\n",
    "import plotly.graph_objs as go\n",
    "import plotly.subplots as sp\n",
    "import plotly.colors as pc\n",
    "from IPython.display import clear_output"
   ]
  },
  {
   "cell_type": "code",
   "execution_count": null,
   "id": "a84fcbab",
   "metadata": {},
   "outputs": [],
   "source": []
  },
  {
   "cell_type": "code",
   "execution_count": 2,
   "id": "7cd638f9",
   "metadata": {},
   "outputs": [],
   "source": [
    "nfl_main_df = pd.read_csv(\"nfl_main.csv\")"
   ]
  },
  {
   "cell_type": "code",
   "execution_count": null,
   "id": "2e90a76d",
   "metadata": {},
   "outputs": [],
   "source": []
  },
  {
   "cell_type": "code",
   "execution_count": null,
   "id": "b4742082",
   "metadata": {},
   "outputs": [],
   "source": []
  },
  {
   "cell_type": "code",
   "execution_count": 3,
   "id": "18338864",
   "metadata": {},
   "outputs": [],
   "source": [
    "team_colors = {\n",
    "    'ARI': 'rgb(151, 35, 63)','ATL': 'rgb(0, 0, 0)','BAL': 'rgb(26, 25, 95)','BUF': 'rgb(0, 51, 141)',\n",
    "    'CAR': 'rgb(0, 133, 202)','CHI': 'rgb(11, 22, 42)','CIN': 'rgb(255, 60, 0)','CLE': 'rgb(49, 29, 0)',\n",
    "    'DAL': 'rgb(0, 34, 68)','DEN': 'rgb(0, 34, 68)','DET': 'rgb(0, 118, 182)','GB': 'rgb(24, 48, 40)',\n",
    "    'HOU': 'rgb(3, 32, 47)','IND': 'rgb(0, 44, 95)','JAX': 'rgb(0, 103, 120)',\n",
    "    'KC': 'rgb(227, 24, 55)','LA': 'rgb(0, 53, 148)','LAC': 'rgb(0, 128, 198)',\n",
    "    'LV': 'rgb(0, 0, 0)','MIA': 'rgb(0, 142, 151)','MIN': 'rgb(79, 38, 131)',\n",
    "    'NE': 'rgb(0, 34, 68)','NO': 'rgb(211, 188, 141)','NYG': 'rgb(1, 35, 82)',\n",
    "    'NYJ': 'rgb(18, 87, 64)','PHI': 'rgb(0, 76, 84)',\n",
    "    'PIT': 'rgb(0, 0, 0)','SEA': 'rgb(0, 21, 50)','SF': 'rgb(170, 0, 0)',\n",
    "    'TB': 'rgb(213, 10, 10)','TEN': 'rgb(68, 149, 209)','WAS': 'rgb(63, 16, 16)'\n",
    "}\n"
   ]
  },
  {
   "cell_type": "code",
   "execution_count": null,
   "id": "e05422b9",
   "metadata": {},
   "outputs": [],
   "source": []
  },
  {
   "cell_type": "code",
   "execution_count": 17,
   "id": "c5af479d",
   "metadata": {},
   "outputs": [],
   "source": [
    "\n",
    "\n",
    "# Function to respond to dropdown selection and return plot\n",
    "def game_dashboard(week, season, team, stats): \n",
    "    with output:\n",
    "        # Clear previous plot\n",
    "        clear_output(wait=True)\n",
    "\n",
    "        # Filter data based on week, season, and team\n",
    "        week_df = nfl_main_df[(nfl_main_df[\"week\"] == week) & (nfl_main_df[\"season\"] == season)]\n",
    "        if week_df.empty:\n",
    "            print(\"No data for the selected filters.\")\n",
    "            return\n",
    "\n",
    "        try:\n",
    "            game_id = week_df[week_df[\"team\"] == team][\"game_id\"].values[0]\n",
    "            game_df = nfl_main_df[nfl_main_df[\"game_id\"] == game_id]\n",
    "            \n",
    "            # Determine grid size based on number of stats\n",
    "            num_stats = len(stats)\n",
    "            ncols = 2\n",
    "            nrows = int(np.ceil(num_stats / ncols))\n",
    "\n",
    "            # Create a subplot layout\n",
    "            fig = sp.make_subplots(rows=nrows, cols=ncols, subplot_titles=stats)\n",
    "\n",
    "            # Plot each statistic\n",
    "            for i, s in enumerate(stats):\n",
    "                filtered_data = game_df[game_df[s] > 0].sort_values(s, ascending=False)\n",
    "                if not filtered_data.empty:\n",
    "                    # Assign color based on team\n",
    "                    colors = [team_colors.get(t, 'grey') for t in filtered_data['team']]\n",
    "                    \n",
    "                    trace = go.Bar(\n",
    "                        x=filtered_data[\"player_display_name\"],\n",
    "                        y=filtered_data[s],\n",
    "                        name=s,\n",
    "                        marker=dict(color=colors),  # Apply team color\n",
    "                        text=filtered_data[\"team\"],\n",
    "                        hoverinfo=\"text+y\"\n",
    "                    )\n",
    "                    row = i // ncols + 1\n",
    "                    col = i % ncols + 1\n",
    "                    fig.add_trace(trace, row=row, col=col)\n",
    "                else:\n",
    "                    row = i // ncols + 1 \n",
    "                    col = i % ncols + 1 \n",
    "                    fig.add_annotation(\n",
    "                        x=0.8, y=0.8, \n",
    "                        text=\"No Data\", \n",
    "                        showarrow=False, \n",
    "                        xref=f\"x{i+1}\", \n",
    "                        yref=f\"y{i+1}\",\n",
    "                        font=dict(color=\"red\"),\n",
    "                        row=row, col=col\n",
    "                    )\n",
    "\n",
    "            # Update layout and axis labels\n",
    "            fig.update_layout(\n",
    "                height=400 * nrows, \n",
    "                width=800, \n",
    "                title_text=\"Game Statistics\",\n",
    "                showlegend=False\n",
    "            )\n",
    "            fig.update_xaxes(tickangle=-70)\n",
    "\n",
    "            # Display the plot\n",
    "            fig.show()\n",
    "\n",
    "        except IndexError:\n",
    "            print(\"No matching game data for the selected week, season, and team.\")\n"
   ]
  },
  {
   "cell_type": "code",
   "execution_count": null,
   "id": "9feb52b7",
   "metadata": {},
   "outputs": [],
   "source": []
  },
  {
   "cell_type": "code",
   "execution_count": null,
   "id": "cd61353f",
   "metadata": {},
   "outputs": [],
   "source": []
  },
  {
   "cell_type": "code",
   "execution_count": 18,
   "id": "38ebd48c",
   "metadata": {},
   "outputs": [
    {
     "data": {
      "application/vnd.jupyter.widget-view+json": {
       "model_id": "852f3d0082a14b8c99767bfff8a6f0a8",
       "version_major": 2,
       "version_minor": 0
      },
      "text/plain": [
       "Dropdown(description='Week: ', options=(1, 2, 3, 4, 5, 6, 7, 8, 9, 10, 11, 12, 13, 14, 15, 16, 17, 18, 19, 20,…"
      ]
     },
     "metadata": {},
     "output_type": "display_data"
    },
    {
     "data": {
      "application/vnd.jupyter.widget-view+json": {
       "model_id": "1e80368ba3b7493aadf79295a2602085",
       "version_major": 2,
       "version_minor": 0
      },
      "text/plain": [
       "Dropdown(description='Season: ', index=5, options=(2019, 2020, 2021, 2022, 2023, 2024), value=2024)"
      ]
     },
     "metadata": {},
     "output_type": "display_data"
    },
    {
     "data": {
      "application/vnd.jupyter.widget-view+json": {
       "model_id": "e0e975df45a44ddfb7dc855b18b234c7",
       "version_major": 2,
       "version_minor": 0
      },
      "text/plain": [
       "Dropdown(description='Team: ', index=25, options=('ARI', 'ATL', 'BAL', 'BUF', 'CAR', 'CHI', 'CIN', 'CLE', 'DAL…"
      ]
     },
     "metadata": {},
     "output_type": "display_data"
    },
    {
     "data": {
      "application/vnd.jupyter.widget-view+json": {
       "model_id": "4c2ceedd7ac44b6590dc7ecc913c8b18",
       "version_major": 2,
       "version_minor": 0
      },
      "text/plain": [
       "SelectMultiple(description='Stats:', index=(0, 3, 24, 27), options=('completions', 'attempts', 'passing_yards'…"
      ]
     },
     "metadata": {},
     "output_type": "display_data"
    },
    {
     "data": {
      "application/vnd.jupyter.widget-view+json": {
       "model_id": "040a3632473245668792fe216c564584",
       "version_major": 2,
       "version_minor": 0
      },
      "text/plain": [
       "Output()"
      ]
     },
     "metadata": {},
     "output_type": "display_data"
    }
   ],
   "source": [
    "# Create four dropdown widgets\n",
    "dropdown1 = widgets.Dropdown(\n",
    "    options=list(nfl_main_df[\"week\"].sort_values().unique()),\n",
    "    value=1,\n",
    "    description='Week: ',\n",
    ")\n",
    "\n",
    "dropdown2 = widgets.Dropdown(\n",
    "    options=list(nfl_main_df[\"season\"].sort_values().unique()),\n",
    "    value=2024,\n",
    "    description='Season: ',\n",
    ")\n",
    "\n",
    "dropdown3 = widgets.Dropdown(\n",
    "    options=list(nfl_main_df[\"team\"].sort_values().unique()),\n",
    "    value='PHI',\n",
    "    description='Team: ',\n",
    ")\n",
    "\n",
    "dropdown4 = widgets.SelectMultiple(\n",
    "    options=['completions', 'attempts',\n",
    "       'passing_yards', 'passing_tds', 'interceptions', 'sacks', 'sack_yards',\n",
    "       'sack_fumbles', 'sack_fumbles_lost', 'passing_air_yards',\n",
    "       'passing_yards_after_catch', 'passing_first_downs', 'passing_epa',\n",
    "       'passing_2pt_conversions', 'pacr', 'dakota', 'carries', 'rushing_yards',\n",
    "       'rushing_tds', 'rushing_fumbles', 'rushing_fumbles_lost',\n",
    "       'rushing_first_downs', 'rushing_epa', 'rushing_2pt_conversions',\n",
    "       'receptions', 'targets', 'receiving_yards', 'receiving_tds',\n",
    "       'receiving_fumbles', 'receiving_fumbles_lost', 'receiving_air_yards',\n",
    "       'receiving_yards_after_catch', 'receiving_first_downs'],\n",
    "    value=['completions', 'passing_tds', 'receptions', 'receiving_tds'],  # Default selection\n",
    "    description='Stats:',\n",
    ")\n",
    "\n",
    "# Output widget to control where the plot will be displayed\n",
    "output = widgets.Output()\n",
    "\n",
    "\n",
    "\n",
    "# Function to update the plot based on dropdown values\n",
    "def update_plot(*args):\n",
    "    game_dashboard(dropdown1.value, dropdown2.value, dropdown3.value, list(dropdown4.value))\n",
    "\n",
    "# Observe dropdown value changes\n",
    "dropdown1.observe(update_plot, names='value')\n",
    "dropdown2.observe(update_plot, names='value')\n",
    "dropdown3.observe(update_plot, names='value')\n",
    "dropdown4.observe(update_plot, names='value')\n",
    "\n",
    "# Display dropdowns and output\n",
    "display(dropdown1, dropdown2, dropdown3, dropdown4, output)\n",
    "\n",
    "# Call the plot function initially\n",
    "update_plot()"
   ]
  },
  {
   "cell_type": "code",
   "execution_count": null,
   "id": "3912525d",
   "metadata": {},
   "outputs": [],
   "source": []
  },
  {
   "cell_type": "code",
   "execution_count": null,
   "id": "900d066c",
   "metadata": {},
   "outputs": [],
   "source": []
  },
  {
   "cell_type": "code",
   "execution_count": null,
   "id": "6c8d838b",
   "metadata": {},
   "outputs": [],
   "source": []
  },
  {
   "cell_type": "code",
   "execution_count": 19,
   "id": "b761c5a0",
   "metadata": {},
   "outputs": [],
   "source": [
    "\n",
    "\n",
    "\n",
    "# Function to respond to dropdown selection and return plot\n",
    "def season_dashboard(season, stats): \n",
    "    with output:\n",
    "        # Clear previous plot\n",
    "        clear_output(wait=True)\n",
    "\n",
    "        # Filter data based on season\n",
    "        season_df = nfl_main_df[(nfl_main_df[\"season\"] == season)].groupby([\"player_display_name\",\"team\"])[stats].sum().reset_index()\n",
    "        if season_df.empty:\n",
    "            print(\"No data for the selected filters.\")\n",
    "            return\n",
    "\n",
    "        try:\n",
    "\n",
    "            # Determine grid size based on number of stats\n",
    "            num_stats = len(stats)\n",
    "            ncols = 2\n",
    "            nrows = int(np.ceil(num_stats / ncols))\n",
    "\n",
    "            # Create a subplot layout\n",
    "            fig = sp.make_subplots(rows=nrows, cols=ncols, subplot_titles=stats)\n",
    "\n",
    "            # Plot each statistic\n",
    "            for i, s in enumerate(stats):\n",
    "                filtered_data = season_df[season_df[s] > 0].sort_values(s, ascending=False)[:10]\n",
    "                if not filtered_data.empty:\n",
    "                    # Assign color based on team\n",
    "                    colors = [team_colors.get(t, 'grey') for t in filtered_data['team']]\n",
    "                    \n",
    "                    trace = go.Bar(\n",
    "                        x=filtered_data[\"player_display_name\"],\n",
    "                        y=filtered_data[s],\n",
    "                        name=s,\n",
    "                        marker=dict(color=colors),  # Apply team color\n",
    "                        text=filtered_data[\"team\"],\n",
    "                        hoverinfo=\"text+y\"\n",
    "                    )\n",
    "                    row = i // ncols + 1\n",
    "                    col = i % ncols + 1\n",
    "                    fig.add_trace(trace, row=row, col=col)\n",
    "                else:\n",
    "                    row = i // ncols + 1 \n",
    "                    col = i % ncols + 1 \n",
    "                    fig.add_annotation(\n",
    "                        x=0.8, y=0.8, \n",
    "                        text=\"No Data\", \n",
    "                        showarrow=False, \n",
    "                        xref=f\"x{i+1}\", \n",
    "                        yref=f\"y{i+1}\",\n",
    "                        font=dict(color=\"red\"),\n",
    "                        row=row, col=col\n",
    "                    )\n",
    "\n",
    "            # Update layout and axis labels\n",
    "            fig.update_layout(\n",
    "                height=400 * nrows, \n",
    "                width=800, \n",
    "                title_text=\"Game Statistics\",\n",
    "                showlegend=False\n",
    "            )\n",
    "            fig.update_xaxes(tickangle=-70)\n",
    "\n",
    "            # Display the plot\n",
    "            fig.show()\n",
    "\n",
    "        except IndexError:\n",
    "            print(\"No matching game data for the selected week, season, and team.\")\n"
   ]
  },
  {
   "cell_type": "code",
   "execution_count": null,
   "id": "807038d0",
   "metadata": {},
   "outputs": [],
   "source": []
  },
  {
   "cell_type": "code",
   "execution_count": 20,
   "id": "558bc9a3",
   "metadata": {},
   "outputs": [
    {
     "data": {
      "application/vnd.jupyter.widget-view+json": {
       "model_id": "f3554e9ca0e341338d3b6654fe6ac063",
       "version_major": 2,
       "version_minor": 0
      },
      "text/plain": [
       "Dropdown(description='Season: ', index=5, options=(2019, 2020, 2021, 2022, 2023, 2024), value=2024)"
      ]
     },
     "metadata": {},
     "output_type": "display_data"
    },
    {
     "data": {
      "application/vnd.jupyter.widget-view+json": {
       "model_id": "3b25bcf9b0c143cb9e76685d9437fab1",
       "version_major": 2,
       "version_minor": 0
      },
      "text/plain": [
       "SelectMultiple(description='Stats:', index=(0, 3, 24, 27), options=('completions', 'attempts', 'passing_yards'…"
      ]
     },
     "metadata": {},
     "output_type": "display_data"
    },
    {
     "data": {
      "application/vnd.jupyter.widget-view+json": {
       "model_id": "2de3b2bb6584408485e64e7fc7d8eba7",
       "version_major": 2,
       "version_minor": 0
      },
      "text/plain": [
       "Output()"
      ]
     },
     "metadata": {},
     "output_type": "display_data"
    }
   ],
   "source": [
    "# Create four dropdown widgets\n",
    "\n",
    "dropdown2 = widgets.Dropdown(\n",
    "    options=list(nfl_main_df[\"season\"].sort_values().unique()),\n",
    "    value=2024,\n",
    "    description='Season: ',\n",
    ")\n",
    "\n",
    "dropdown4 = widgets.SelectMultiple(\n",
    "    options=['completions', 'attempts',\n",
    "       'passing_yards', 'passing_tds', 'interceptions', 'sacks', 'sack_yards',\n",
    "       'sack_fumbles', 'sack_fumbles_lost', 'passing_air_yards',\n",
    "       'passing_yards_after_catch', 'passing_first_downs', 'passing_epa',\n",
    "       'passing_2pt_conversions', 'pacr', 'dakota', 'carries', 'rushing_yards',\n",
    "       'rushing_tds', 'rushing_fumbles', 'rushing_fumbles_lost',\n",
    "       'rushing_first_downs', 'rushing_epa', 'rushing_2pt_conversions',\n",
    "       'receptions', 'targets', 'receiving_yards', 'receiving_tds',\n",
    "       'receiving_fumbles', 'receiving_fumbles_lost', 'receiving_air_yards',\n",
    "       'receiving_yards_after_catch', 'receiving_first_downs'],\n",
    "    value=['completions', 'passing_tds', 'receptions', 'receiving_tds'],  # Default selection\n",
    "    description='Stats:',\n",
    ")\n",
    "\n",
    "# Output widget to control where the plot will be displayed\n",
    "output = widgets.Output()\n",
    "\n",
    "\n",
    "\n",
    "# Function to update the plot based on dropdown values\n",
    "def update_plot(*args):\n",
    "    season_dashboard(dropdown2.value, list(dropdown4.value))\n",
    "\n",
    "# Observe dropdown value changes\n",
    "dropdown2.observe(update_plot, names='value')\n",
    "dropdown4.observe(update_plot, names='value')\n",
    "\n",
    "# Display dropdowns and output\n",
    "display(dropdown2, dropdown4, output)\n",
    "\n",
    "# Call the plot function initially\n",
    "update_plot()"
   ]
  },
  {
   "cell_type": "code",
   "execution_count": null,
   "id": "dc7b62fe",
   "metadata": {},
   "outputs": [],
   "source": []
  },
  {
   "cell_type": "code",
   "execution_count": null,
   "id": "ac462807",
   "metadata": {},
   "outputs": [],
   "source": []
  },
  {
   "cell_type": "code",
   "execution_count": null,
   "id": "b1a7abe6",
   "metadata": {},
   "outputs": [],
   "source": []
  },
  {
   "cell_type": "code",
   "execution_count": null,
   "id": "8e220cc7",
   "metadata": {},
   "outputs": [],
   "source": []
  },
  {
   "cell_type": "code",
   "execution_count": null,
   "id": "fed2856b",
   "metadata": {},
   "outputs": [],
   "source": []
  },
  {
   "cell_type": "code",
   "execution_count": null,
   "id": "c68a12d9",
   "metadata": {},
   "outputs": [],
   "source": []
  },
  {
   "cell_type": "code",
   "execution_count": null,
   "id": "e8830898",
   "metadata": {},
   "outputs": [],
   "source": []
  }
 ],
 "metadata": {
  "kernelspec": {
   "display_name": "Python 3 (ipykernel)",
   "language": "python",
   "name": "python3"
  },
  "language_info": {
   "codemirror_mode": {
    "name": "ipython",
    "version": 3
   },
   "file_extension": ".py",
   "mimetype": "text/x-python",
   "name": "python",
   "nbconvert_exporter": "python",
   "pygments_lexer": "ipython3",
   "version": "3.11.4"
  }
 },
 "nbformat": 4,
 "nbformat_minor": 5
}
