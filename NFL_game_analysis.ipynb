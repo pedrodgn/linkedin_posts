{
 "cells": [
  {
   "cell_type": "code",
   "execution_count": 13,
   "id": "2ec9772f",
   "metadata": {},
   "outputs": [],
   "source": [
    "import nfl_data_py as nfl\n",
    "import pandas as pd\n",
    "import warnings\n",
    "warnings.filterwarnings(\"ignore\")\n",
    "import seaborn as sns\n",
    "from matplotlib import pyplot as plt\n",
    "import numpy as np\n",
    "import ipywidgets as widgets\n",
    "from IPython.display import display, clear_output"
   ]
  },
  {
   "cell_type": "code",
   "execution_count": null,
   "id": "a84fcbab",
   "metadata": {},
   "outputs": [],
   "source": []
  },
  {
   "cell_type": "code",
   "execution_count": null,
   "id": "7cd638f9",
   "metadata": {},
   "outputs": [],
   "source": []
  },
  {
   "cell_type": "markdown",
   "id": "77366db8",
   "metadata": {},
   "source": [
    "Getting NFL data from the last 9 years"
   ]
  },
  {
   "cell_type": "code",
   "execution_count": 2,
   "id": "a4173245",
   "metadata": {},
   "outputs": [],
   "source": [
    "years = list(range(2015,2025))"
   ]
  },
  {
   "cell_type": "code",
   "execution_count": 3,
   "id": "392a5cee",
   "metadata": {},
   "outputs": [
    {
     "name": "stdout",
     "output_type": "stream",
     "text": [
      "Downcasting floats.\n"
     ]
    }
   ],
   "source": [
    "nfl_main_df = nfl.import_weekly_data(years, columns = list(nfl.see_weekly_cols()), downcast=True)"
   ]
  },
  {
   "cell_type": "code",
   "execution_count": 4,
   "id": "b6878a4c",
   "metadata": {},
   "outputs": [],
   "source": [
    "schedule_df = nfl.import_schedules(years)"
   ]
  },
  {
   "cell_type": "code",
   "execution_count": null,
   "id": "63ef5a1e",
   "metadata": {},
   "outputs": [],
   "source": []
  },
  {
   "cell_type": "code",
   "execution_count": 5,
   "id": "38c44780",
   "metadata": {},
   "outputs": [],
   "source": [
    "team_opponent_df_1 = schedule_df[[\"week\",\"season\",\"away_team\",\"home_team\",\"game_id\"]].rename(columns={\"away_team\":\"recent_team\",\"home_team\":\"opponent\"})\n",
    "team_opponent_df_2 = schedule_df[[\"week\",\"season\",\"away_team\",\"home_team\",\"game_id\"]].rename(columns={\"away_team\":\"opponent\",\"home_team\":\"recent_team\"})\n",
    "\n",
    "team_opponent_df = pd.concat([team_opponent_df_1,team_opponent_df_2])"
   ]
  },
  {
   "cell_type": "code",
   "execution_count": 6,
   "id": "6a69a500",
   "metadata": {},
   "outputs": [],
   "source": [
    "nfl_main_df = nfl_main_df.merge(team_opponent_df,on=[\"week\",\"season\",\"recent_team\"],how=\"left\")"
   ]
  },
  {
   "cell_type": "code",
   "execution_count": null,
   "id": "a1622975",
   "metadata": {},
   "outputs": [],
   "source": []
  },
  {
   "cell_type": "code",
   "execution_count": 7,
   "id": "0e9e4e8e",
   "metadata": {},
   "outputs": [],
   "source": [
    "nfl_main_df = nfl_main_df.rename(columns={\"recent_team\":\"team\"})"
   ]
  },
  {
   "cell_type": "code",
   "execution_count": null,
   "id": "2958db14",
   "metadata": {},
   "outputs": [],
   "source": []
  },
  {
   "cell_type": "code",
   "execution_count": 11,
   "id": "8331bcce",
   "metadata": {},
   "outputs": [],
   "source": [
    "# Function to respond to dropdown selection and return plot\n",
    "def game_dashboard(week, season, team, stats): \n",
    "    with output:\n",
    "        # Clear previous plot\n",
    "        clear_output(wait=True)\n",
    "\n",
    "        # Filter data based on week, season, and team\n",
    "        week_df = nfl_main_df[(nfl_main_df[\"week\"] == week) & (nfl_main_df[\"season\"] == season)]\n",
    "        if week_df.empty:\n",
    "            print(\"No data for the selected filters.\")\n",
    "            return\n",
    "\n",
    "        try:\n",
    "            \n",
    "            \n",
    "            game_id = week_df[week_df[\"team\"] == team][\"game_id\"].values[0]\n",
    "            game_df = nfl_main_df[nfl_main_df[\"game_id\"] == game_id]\n",
    "            \n",
    "            # Create the plot\n",
    "            \n",
    "            # Determine grid size based on number of stats\n",
    "            num_stats = len(stats)\n",
    "            ncols = 2\n",
    "            nrows = int(np.ceil(num_stats / ncols))\n",
    "            \n",
    "            \n",
    "            f, axes = plt.subplots(nrows, ncols, figsize=(15, 5 * nrows))\n",
    "            sns.set_style(\"darkgrid\")\n",
    "            \n",
    "            # Flatten axes array for easier iteration\n",
    "            axes = axes.flatten()\n",
    "\n",
    "            # Plot each statistic\n",
    "            for i, s in enumerate(stats):\n",
    "                filtered_data = game_df[game_df[s] > 0].sort_values(s,ascending=False)\n",
    "                if not filtered_data.empty:\n",
    "                    sns.barplot(x=\"player_display_name\", y=s, hue=\"team\",\n",
    "                                data=filtered_data, ax=axes[i])\n",
    "                    axes[i].set_title(s)\n",
    "                else:\n",
    "                    axes[i].text(0.5, 0.5, 'No Data', horizontalalignment='center',\n",
    "                                 verticalalignment='center', fontsize=12, color='red')\n",
    "                plt.setp(axes[i].get_xticklabels(), rotation=70, ha='center')\n",
    "\n",
    "            # Turn off any unused subplots\n",
    "            for j in range(num_stats, len(axes)):\n",
    "                axes[j].axis('off')\n",
    "                \n",
    "            for ax in axes.flat:\n",
    "                plt.setp(ax.get_xticklabels(), rotation=70)\n",
    "\n",
    "            # Adjust space between rows of the subplot\n",
    "            plt.subplots_adjust(hspace=0.55, wspace=0.3)\n",
    "            plt.show()\n",
    "\n",
    "        except IndexError:\n",
    "            print(\"No matching game data for the selected week, season, and team.\")"
   ]
  },
  {
   "cell_type": "code",
   "execution_count": null,
   "id": "401c0a3f",
   "metadata": {},
   "outputs": [],
   "source": []
  },
  {
   "cell_type": "code",
   "execution_count": null,
   "id": "9feb52b7",
   "metadata": {},
   "outputs": [],
   "source": []
  },
  {
   "cell_type": "code",
   "execution_count": 14,
   "id": "38ebd48c",
   "metadata": {},
   "outputs": [
    {
     "data": {
      "application/vnd.jupyter.widget-view+json": {
       "model_id": "ea08df0bb65c446dbaab6d701cbc82fe",
       "version_major": 2,
       "version_minor": 0
      },
      "text/plain": [
       "Dropdown(description='Week: ', options=(1, 2, 3, 4, 5, 6, 7, 8, 9, 10, 11, 12, 13, 14, 15, 16, 17, 18, 19, 20,…"
      ]
     },
     "metadata": {},
     "output_type": "display_data"
    },
    {
     "data": {
      "application/vnd.jupyter.widget-view+json": {
       "model_id": "b5085cbbabed405885a227f321972687",
       "version_major": 2,
       "version_minor": 0
      },
      "text/plain": [
       "Dropdown(description='Season: ', index=9, options=(2015, 2016, 2017, 2018, 2019, 2020, 2021, 2022, 2023, 2024)…"
      ]
     },
     "metadata": {},
     "output_type": "display_data"
    },
    {
     "data": {
      "application/vnd.jupyter.widget-view+json": {
       "model_id": "80303afae5cb46e1a3008fb06597f888",
       "version_major": 2,
       "version_minor": 0
      },
      "text/plain": [
       "Dropdown(description='Team: ', index=25, options=('ARI', 'ATL', 'BAL', 'BUF', 'CAR', 'CHI', 'CIN', 'CLE', 'DAL…"
      ]
     },
     "metadata": {},
     "output_type": "display_data"
    },
    {
     "data": {
      "application/vnd.jupyter.widget-view+json": {
       "model_id": "b6cd06b9f6fc4492a9bd89227eaedc1d",
       "version_major": 2,
       "version_minor": 0
      },
      "text/plain": [
       "SelectMultiple(description='Stats:', index=(0, 3, 24, 27), options=('completions', 'attempts', 'passing_yards'…"
      ]
     },
     "metadata": {},
     "output_type": "display_data"
    },
    {
     "data": {
      "application/vnd.jupyter.widget-view+json": {
       "model_id": "7980fe35947b479690b295270d9729a6",
       "version_major": 2,
       "version_minor": 0
      },
      "text/plain": [
       "Output()"
      ]
     },
     "metadata": {},
     "output_type": "display_data"
    }
   ],
   "source": [
    "# Create four dropdown widgets\n",
    "dropdown1 = widgets.Dropdown(\n",
    "    options=list(nfl_main_df[\"week\"].sort_values().unique()),\n",
    "    value=1,\n",
    "    description='Week: ',\n",
    ")\n",
    "\n",
    "dropdown2 = widgets.Dropdown(\n",
    "    options=list(nfl_main_df[\"season\"].sort_values().unique()),\n",
    "    value=2024,\n",
    "    description='Season: ',\n",
    ")\n",
    "\n",
    "dropdown3 = widgets.Dropdown(\n",
    "    options=list(nfl_main_df[\"team\"].sort_values().unique()),\n",
    "    value='PHI',\n",
    "    description='Team: ',\n",
    ")\n",
    "\n",
    "dropdown4 = widgets.SelectMultiple(\n",
    "    options=['completions', 'attempts',\n",
    "       'passing_yards', 'passing_tds', 'interceptions', 'sacks', 'sack_yards',\n",
    "       'sack_fumbles', 'sack_fumbles_lost', 'passing_air_yards',\n",
    "       'passing_yards_after_catch', 'passing_first_downs', 'passing_epa',\n",
    "       'passing_2pt_conversions', 'pacr', 'dakota', 'carries', 'rushing_yards',\n",
    "       'rushing_tds', 'rushing_fumbles', 'rushing_fumbles_lost',\n",
    "       'rushing_first_downs', 'rushing_epa', 'rushing_2pt_conversions',\n",
    "       'receptions', 'targets', 'receiving_yards', 'receiving_tds',\n",
    "       'receiving_fumbles', 'receiving_fumbles_lost', 'receiving_air_yards',\n",
    "       'receiving_yards_after_catch', 'receiving_first_downs'],\n",
    "    value=['completions', 'passing_tds', 'receptions', 'receiving_tds'],  # Default selection\n",
    "    description='Stats:',\n",
    ")\n",
    "\n",
    "# Output widget to control where the plot will be displayed\n",
    "output = widgets.Output()\n",
    "\n",
    "\n",
    "\n",
    "# Function to update the plot based on dropdown values\n",
    "def update_plot(*args):\n",
    "    game_dashboard(dropdown1.value, dropdown2.value, dropdown3.value, list(dropdown4.value))\n",
    "\n",
    "# Observe dropdown value changes\n",
    "dropdown1.observe(update_plot, names='value')\n",
    "dropdown2.observe(update_plot, names='value')\n",
    "dropdown3.observe(update_plot, names='value')\n",
    "dropdown4.observe(update_plot, names='value')\n",
    "\n",
    "# Display dropdowns and output\n",
    "display(dropdown1, dropdown2, dropdown3, dropdown4, output)\n",
    "\n",
    "# Call the plot function initially\n",
    "update_plot()"
   ]
  },
  {
   "cell_type": "code",
   "execution_count": null,
   "id": "b761c5a0",
   "metadata": {},
   "outputs": [],
   "source": []
  },
  {
   "cell_type": "code",
   "execution_count": null,
   "id": "807038d0",
   "metadata": {},
   "outputs": [],
   "source": []
  },
  {
   "cell_type": "code",
   "execution_count": null,
   "id": "8e220cc7",
   "metadata": {},
   "outputs": [],
   "source": []
  },
  {
   "cell_type": "code",
   "execution_count": null,
   "id": "fed2856b",
   "metadata": {},
   "outputs": [],
   "source": []
  },
  {
   "cell_type": "code",
   "execution_count": null,
   "id": "c68a12d9",
   "metadata": {},
   "outputs": [],
   "source": []
  },
  {
   "cell_type": "code",
   "execution_count": null,
   "id": "e8830898",
   "metadata": {},
   "outputs": [],
   "source": []
  }
 ],
 "metadata": {
  "kernelspec": {
   "display_name": "Python 3 (ipykernel)",
   "language": "python",
   "name": "python3"
  },
  "language_info": {
   "codemirror_mode": {
    "name": "ipython",
    "version": 3
   },
   "file_extension": ".py",
   "mimetype": "text/x-python",
   "name": "python",
   "nbconvert_exporter": "python",
   "pygments_lexer": "ipython3",
   "version": "3.11.4"
  }
 },
 "nbformat": 4,
 "nbformat_minor": 5
}
