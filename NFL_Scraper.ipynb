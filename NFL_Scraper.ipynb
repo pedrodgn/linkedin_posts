{
 "cells": [
  {
   "cell_type": "code",
   "execution_count": 1,
   "id": "7da5d2f4",
   "metadata": {},
   "outputs": [],
   "source": [
    "import nfl_data_py as nfl\n",
    "import pandas as pd\n",
    "import warnings\n",
    "warnings.filterwarnings(\"ignore\")"
   ]
  },
  {
   "cell_type": "code",
   "execution_count": null,
   "id": "1c4cc17d",
   "metadata": {},
   "outputs": [],
   "source": []
  },
  {
   "cell_type": "markdown",
   "id": "325df340",
   "metadata": {},
   "source": [
    "Getting NFL data from the last 9 years"
   ]
  },
  {
   "cell_type": "code",
   "execution_count": 2,
   "id": "d9df4902",
   "metadata": {},
   "outputs": [],
   "source": [
    "years = list(range(2015,2025))"
   ]
  },
  {
   "cell_type": "code",
   "execution_count": 3,
   "id": "d1c14731",
   "metadata": {},
   "outputs": [
    {
     "name": "stdout",
     "output_type": "stream",
     "text": [
      "Downcasting floats.\n"
     ]
    }
   ],
   "source": [
    "nfl_main_df = nfl.import_weekly_data(years, columns = list(nfl.see_weekly_cols()), downcast=True)"
   ]
  },
  {
   "cell_type": "code",
   "execution_count": 4,
   "id": "20e1f1bf",
   "metadata": {},
   "outputs": [],
   "source": [
    "schedule_df = nfl.import_schedules(years)"
   ]
  },
  {
   "cell_type": "code",
   "execution_count": 5,
   "id": "68a79d39",
   "metadata": {},
   "outputs": [],
   "source": [
    "team_opponent_df_1 = schedule_df[[\"week\",\"season\",\"away_team\",\"home_team\",\"game_id\"]].rename(columns={\"away_team\":\"recent_team\",\"home_team\":\"opponent\"})\n",
    "team_opponent_df_2 = schedule_df[[\"week\",\"season\",\"away_team\",\"home_team\",\"game_id\"]].rename(columns={\"away_team\":\"opponent\",\"home_team\":\"recent_team\"})\n",
    "\n",
    "team_opponent_df = pd.concat([team_opponent_df_1,team_opponent_df_2])"
   ]
  },
  {
   "cell_type": "code",
   "execution_count": 6,
   "id": "b6c0d940",
   "metadata": {},
   "outputs": [],
   "source": [
    "nfl_main_df = nfl_main_df.merge(team_opponent_df,on=[\"week\",\"season\",\"recent_team\"],how=\"left\")"
   ]
  },
  {
   "cell_type": "code",
   "execution_count": 7,
   "id": "124d251d",
   "metadata": {},
   "outputs": [],
   "source": [
    "nfl_main_df = nfl_main_df.rename(columns={\"recent_team\":\"team\"})"
   ]
  },
  {
   "cell_type": "code",
   "execution_count": null,
   "id": "cc8ef5ba",
   "metadata": {},
   "outputs": [],
   "source": [
    "nfl_main_df.to_csv(\"n\")"
   ]
  },
  {
   "cell_type": "code",
   "execution_count": null,
   "id": "4259c3d2",
   "metadata": {},
   "outputs": [],
   "source": []
  },
  {
   "cell_type": "code",
   "execution_count": null,
   "id": "aa61b8da",
   "metadata": {},
   "outputs": [],
   "source": []
  }
 ],
 "metadata": {
  "kernelspec": {
   "display_name": "Python 3 (ipykernel)",
   "language": "python",
   "name": "python3"
  },
  "language_info": {
   "codemirror_mode": {
    "name": "ipython",
    "version": 3
   },
   "file_extension": ".py",
   "mimetype": "text/x-python",
   "name": "python",
   "nbconvert_exporter": "python",
   "pygments_lexer": "ipython3",
   "version": "3.11.4"
  }
 },
 "nbformat": 4,
 "nbformat_minor": 5
}
